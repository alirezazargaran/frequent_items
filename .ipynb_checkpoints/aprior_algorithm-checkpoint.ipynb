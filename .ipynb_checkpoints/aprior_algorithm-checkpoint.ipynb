{
 "cells": [
  {
   "cell_type": "code",
   "execution_count": 1,
   "id": "11c56c61",
   "metadata": {},
   "outputs": [],
   "source": [
    "# import neccesary packegs\n",
    "import numpy as np\n",
    "import matplotlib.pyplot as plt\n",
    "import json\n",
    "from itertools import combinations\n",
    "from itertools import product\n",
    "from pyspark import SparkContext,SparkConf\n",
    "from pyspark.sql import SparkSession"
   ]
  },
  {
   "cell_type": "code",
   "execution_count": 2,
   "id": "76d1a6b3",
   "metadata": {
    "scrolled": false
   },
   "outputs": [
    {
     "name": "stdout",
     "output_type": "stream",
     "text": [
      "22/12/23 09:00:46 WARN Utils: Your hostname, alireza-OMEN-by-HP-Laptop-16-b0xxx resolves to a loopback address: 127.0.1.1; using 172.27.163.205 instead (on interface wlo1)\n",
      "22/12/23 09:00:46 WARN Utils: Set SPARK_LOCAL_IP if you need to bind to another address\n"
     ]
    },
    {
     "name": "stderr",
     "output_type": "stream",
     "text": [
      "Setting default log level to \"WARN\".\n",
      "To adjust logging level use sc.setLogLevel(newLevel). For SparkR, use setLogLevel(newLevel).\n"
     ]
    },
    {
     "name": "stdout",
     "output_type": "stream",
     "text": [
      "22/12/23 09:00:47 WARN NativeCodeLoader: Unable to load native-hadoop library for your platform... using builtin-java classes where applicable\n"
     ]
    }
   ],
   "source": [
    "# initialize spark\n",
    "spark = SparkSession \\\n",
    "    .builder \\\n",
    "    .appName(\"municipality\") \\\n",
    "    .master(\"local[*]\") \\\n",
    "    .getOrCreate()\n",
    "\n",
    "sc=spark.sparkContext"
   ]
  },
  {
   "cell_type": "code",
   "execution_count": 3,
   "id": "2022ef30",
   "metadata": {
    "scrolled": false
   },
   "outputs": [
    {
     "name": "stdout",
     "output_type": "stream",
     "text": [
      "+-----------+---------+---------------+-------------+----------------+----------+-------------------+\n",
      "|DEVICE_CODE|SYSTEM_ID|ORIGINE_CAR_KEY|FINAL_CAR_KEY|CHECK_STATUS_KEY|COMPANY_ID|      PASS_DAY_TIME|\n",
      "+-----------+---------+---------------+-------------+----------------+----------+-------------------+\n",
      "|     200501|       81|       10477885|     10477885|               5|       161|2021-06-01 03:54:39|\n",
      "|        155|       81|       87625017|     87625017|               5|       161|2021-06-01 04:14:21|\n",
      "|     631757|       81|        8652928|      8652928|               5|       161|2021-06-01 03:58:57|\n",
      "|     631757|       81|        8548123|      8548123|               5|       161|2021-06-01 04:01:38|\n",
      "|     631757|       81|       24715264|     24715264|               5|       161|2021-06-01 03:56:57|\n",
      "|     206602|       81|       69939810|     69939810|               5|       161|2021-06-01 04:06:38|\n",
      "|     206602|       81|       11046172|     11046172|               5|       161|2021-06-01 04:03:59|\n",
      "|     206602|       81|        8334658|      8334658|               5|       161|2021-06-01 04:09:16|\n",
      "|     206602|       81|       29077699|     29077699|               5|       161|2021-06-01 04:11:01|\n",
      "|     206602|       81|       40682798|     40682798|               5|       161|2021-06-01 03:54:45|\n",
      "|     206602|       81|       22474283|     22474283|               5|       161|2021-06-01 04:06:04|\n",
      "|     206602|       81|        8091143|      8091143|               5|       161|2021-06-01 03:57:17|\n",
      "|     206602|       81|       28889922|     28889922|               5|       161|2021-06-01 03:59:24|\n",
      "|     206602|       81|       21720169|     21720169|               5|       161|2021-06-01 04:00:44|\n",
      "|     206602|       81|       48823778|     48823778|               5|       161|2021-06-01 04:00:39|\n",
      "|     206602|       81|       52789835|     52789835|               5|       161|2021-06-01 04:04:15|\n",
      "|     631829|       81|       10919200|     10919200|               5|       161|2021-06-01 04:03:08|\n",
      "|     631829|       81|       13177831|     13177831|               5|       161|2021-06-01 03:51:41|\n",
      "|     202901|       81|      101646284|    101646284|               5|       161|2021-06-01 02:28:02|\n",
      "|     202901|       81|       30889141|     30889141|               5|       161|2021-06-01 03:07:15|\n",
      "+-----------+---------+---------------+-------------+----------------+----------+-------------------+\n",
      "only showing top 20 rows\n",
      "\n",
      "+-----------+---------------+-------------------+\n",
      "|DEVICE_CODE|ORIGINE_CAR_KEY|      PASS_DAY_TIME|\n",
      "+-----------+---------------+-------------------+\n",
      "|     200501|       10477885|2021-06-01 03:54:39|\n",
      "|        155|       87625017|2021-06-01 04:14:21|\n",
      "|     631757|        8652928|2021-06-01 03:58:57|\n",
      "|     631757|        8548123|2021-06-01 04:01:38|\n",
      "|     631757|       24715264|2021-06-01 03:56:57|\n",
      "|     206602|       69939810|2021-06-01 04:06:38|\n",
      "|     206602|       11046172|2021-06-01 04:03:59|\n",
      "|     206602|        8334658|2021-06-01 04:09:16|\n",
      "|     206602|       29077699|2021-06-01 04:11:01|\n",
      "|     206602|       40682798|2021-06-01 03:54:45|\n",
      "|     206602|       22474283|2021-06-01 04:06:04|\n",
      "|     206602|        8091143|2021-06-01 03:57:17|\n",
      "|     206602|       28889922|2021-06-01 03:59:24|\n",
      "|     206602|       21720169|2021-06-01 04:00:44|\n",
      "|     206602|       48823778|2021-06-01 04:00:39|\n",
      "|     206602|       52789835|2021-06-01 04:04:15|\n",
      "|     631829|       10919200|2021-06-01 04:03:08|\n",
      "|     631829|       13177831|2021-06-01 03:51:41|\n",
      "|     202901|      101646284|2021-06-01 02:28:02|\n",
      "|     202901|       30889141|2021-06-01 03:07:15|\n",
      "+-----------+---------------+-------------------+\n",
      "only showing top 20 rows\n",
      "\n"
     ]
    }
   ],
   "source": [
    "# reading csv file in DataFrame type\n",
    "df=spark.read.options(header=True,delimiter=',').csv(\"S\")\n",
    "df.show()\n",
    "new_df=df.select([df.columns[i] for i in [0,2,6]]) # selecet all needed columns\n",
    "ds_rdd=new_df.rdd # convert dataframe to rdd\n",
    "new_df.show() # showing top 20 rows of selected columns of dataset"
   ]
  },
  {
   "cell_type": "code",
   "execution_count": 4,
   "id": "2eaeb333",
   "metadata": {},
   "outputs": [
    {
     "name": "stderr",
     "output_type": "stream",
     "text": [
      "                                                                                \r"
     ]
    },
    {
     "data": {
      "text/plain": [
       "[(('13177831', '2021-06-01'),\n",
       "  ['631829',\n",
       "   '631362',\n",
       "   '900276',\n",
       "   '900265',\n",
       "   '900203',\n",
       "   '900234',\n",
       "   '900251',\n",
       "   '631640',\n",
       "   '100701100',\n",
       "   '900155',\n",
       "   '100700866',\n",
       "   '100700862',\n",
       "   '900176',\n",
       "   '100701045',\n",
       "   '900135',\n",
       "   '900243',\n",
       "   '900107',\n",
       "   '100700824',\n",
       "   '900167',\n",
       "   '100700857',\n",
       "   '100700845',\n",
       "   '900158'])]"
      ]
     },
     "execution_count": 4,
     "metadata": {},
     "output_type": "execute_result"
    }
   ],
   "source": [
    "pairs_rdd=ds_rdd.map(lambda x: ((x[1],x[2].split()[0]),[x[0]])) # (key=(plate,date), value=device code)\n",
    "pass_rdd=pairs_rdd.reduceByKey(lambda x,y: x+y)\n",
    "# see of the results\n",
    "pass_rdd.take(1)"
   ]
  },
  {
   "cell_type": "code",
   "execution_count": 5,
   "id": "dff429cc",
   "metadata": {},
   "outputs": [],
   "source": [
    "# finding outlier data\n",
    "plate_device_rdd=ds_rdd.map(lambda x:((x[1],x[0]),[x[2].split()[1]])) # (key=(plate,device code), value=time)\n",
    "pass_car=plate_device_rdd.reduceByKey(lambda x,y: x+y) # see each car passes from what speed cameras\n",
    "# sorting all passes according to passes time\n",
    "def time_sorting(pass_car):\n",
    "    times=pass_car[1]\n",
    "    time_dict={}\n",
    "    for time in times:\n",
    "        s=list(map(int,time.split(\":\")))\n",
    "        time_sec=s[0]*3600+s[1]*60+s[2]\n",
    "        time_dict[time]=time_sec\n",
    "    sorted_time_dict=dict(sorted(time_dict.items(),key=lambda x: x[1],reverse=True))\n",
    "    return (pass_car[0],sorted_time_dict)\n",
    "sorted_pass_car=pass_car.map(time_sorting)"
   ]
  },
  {
   "cell_type": "code",
   "execution_count": 6,
   "id": "3867126e",
   "metadata": {
    "scrolled": false
   },
   "outputs": [
    {
     "name": "stderr",
     "output_type": "stream",
     "text": [
      "                                                                                \r"
     ]
    },
    {
     "name": "stdout",
     "output_type": "stream",
     "text": [
      "the size of longest list befor cleaning: 9976\n"
     ]
    },
    {
     "name": "stderr",
     "output_type": "stream",
     "text": [
      "                                                                                \r"
     ]
    },
    {
     "name": "stdout",
     "output_type": "stream",
     "text": [
      "the size of longest list after cleaning: 3794\n"
     ]
    },
    {
     "name": "stderr",
     "output_type": "stream",
     "text": [
      "                                                                                \r"
     ]
    },
    {
     "name": "stdout",
     "output_type": "stream",
     "text": [
      "the number of data befor cleaning: 4910236\n"
     ]
    },
    {
     "name": "stderr",
     "output_type": "stream",
     "text": [
      "\r",
      "[Stage 16:>                                                       (0 + 16) / 16]\r"
     ]
    },
    {
     "name": "stdout",
     "output_type": "stream",
     "text": [
      "the number of data after cleaning: 4796330\n"
     ]
    },
    {
     "name": "stderr",
     "output_type": "stream",
     "text": [
      "\r",
      "                                                                                \r"
     ]
    }
   ],
   "source": [
    "def remove_outlier_data(sorted_pass_car):\n",
    "    times_dict=sorted_pass_car[1]\n",
    "    times_main_form=list(times_dict.keys())\n",
    "    times_sec=list(times_dict.values())\n",
    "    correct_time=list()\n",
    "    for i in range(len(times_dict)-1):\n",
    "        if times_sec[i]-times_sec[i+1]>=60:\n",
    "            correct_time.append(times_main_form[i])\n",
    "    if len(times_sec)==1:\n",
    "        correct_time.append(times_main_form)\n",
    "    else:\n",
    "        if times_sec[-2]-times_sec[-1]>=60:\n",
    "            correct_time.append(times_main_form[-1])\n",
    "    return (sorted_pass_car[0],correct_time)\n",
    "clean_pass_car=sorted_pass_car.map(remove_outlier_data) # we remove all outlier data\n",
    "clean_dt=clean_pass_car.flatMap(lambda x: list(product((x[0],),x[1]))) \\\n",
    "                        .map(lambda x: ((x[0][0],x[1][0]),[x[0][1]])) \\\n",
    "                        .map(lambda x: ((x[0][0],'2021-06-01'),x[1])) \\\n",
    "                        .reduceByKey(lambda x,y: x+y)\n",
    "# show the length of longest list befor and after cleaning\n",
    "print('the size of longest list befor cleaning: '\n",
    "     +str(\n",
    "         len(pass_rdd.max(lambda x: len(x[1]))[1]\n",
    "            )\n",
    "         )\n",
    "     )\n",
    "print('the size of longest list after cleaning: '\n",
    "     +str(\n",
    "         len(clean_dt.max(lambda x: len(x[1]))[1]\n",
    "            )\n",
    "         )\n",
    "     )\n",
    "# showing how many of data have been removed\n",
    "print('the number of data befor cleaning: ' \n",
    "      +str(pairs_rdd.map(lambda x: (1,len(x[1]))).reduceByKey(lambda x,y: x+y).take(1)[0][1]))\n",
    "print('the number of data after cleaning: '\n",
    "      +str(clean_dt.map(lambda x: (1,len(x[1]))).reduceByKey(lambda x,y: x+y).take(1)[0][1]))"
   ]
  },
  {
   "cell_type": "code",
   "execution_count": 7,
   "id": "90e3b3e8",
   "metadata": {
    "scrolled": false
   },
   "outputs": [
    {
     "name": "stderr",
     "output_type": "stream",
     "text": [
      "                                                                                \r"
     ]
    }
   ],
   "source": [
    "# implement A-prior algorithm\n",
    "baskets=clean_dt.map(lambda x: set(x[1])) # defining all baskets\n",
    "items_1=baskets.flatMap(lambda x: x) \\\n",
    "                        .map(lambda x: (x,1)) \\\n",
    "                        .reduceByKey(lambda x,y: x+y)\n",
    "Neach_item=list(dict(items_1.collect()).values())"
   ]
  },
  {
   "cell_type": "code",
   "execution_count": 8,
   "id": "2c42b037",
   "metadata": {},
   "outputs": [
    {
     "name": "stdout",
     "output_type": "stream",
     "text": [
      "threshold which is choosen is: 4124\n"
     ]
    },
    {
     "data": {
      "image/png": "[encoded data removed]",
      "text/plain": [
       "<Figure size 800x800 with 1 Axes>"
      ]
     },
     "metadata": {},
     "output_type": "display_data"
    }
   ],
   "source": [
    "# finding a good threshold\n",
    "fig,axis=plt.subplots(figsize=(8,8))\n",
    "x=np.linspace(0,1,200)\n",
    "y=np.quantile(Neach_item,x)\n",
    "axis.scatter(x,y,s=25,facecolors='none',edgecolor='r')\n",
    "threshold=int(np.quantile(Neach_item,0.75))\n",
    "print(f'threshold which is choosen is: {threshold}')"
   ]
  },
  {
   "cell_type": "code",
   "execution_count": 9,
   "id": "69792cbc",
   "metadata": {},
   "outputs": [
    {
     "name": "stdout",
     "output_type": "stream",
     "text": [
      "the number of frequent 1-itemsets is: 249\n",
      "top 10 of frequently 1-itemsets:\n",
      "900212: 81397\n",
      "100700841: 71413\n",
      "900244: 63249\n",
      "100700853: 55878\n",
      "900101: 54280\n",
      "900222: 48038\n",
      "900155: 47223\n",
      "900142: 45440\n",
      "900246: 44299\n",
      "100700868: 43194\n"
     ]
    },
    {
     "name": "stderr",
     "output_type": "stream",
     "text": [
      "                                                                                \r"
     ]
    },
    {
     "name": "stdout",
     "output_type": "stream",
     "text": [
      "the number of frequent 2-itemsets is 150\n",
      "top 10 of frequently 2-itemsets:\n",
      "frozenset({'900244', '900212'}): 43365\n",
      "frozenset({'900142', '900212'}): 25185\n",
      "frozenset({'100700841', '900101'}): 19417\n",
      "frozenset({'100700841', '900236'}): 18243\n",
      "frozenset({'900244', '900142'}): 16051\n",
      "frozenset({'100700868', '900222'}): 15965\n",
      "frozenset({'100700853', '900142'}): 15408\n",
      "frozenset({'100700853', '900212'}): 14130\n",
      "frozenset({'900107', '100700824'}): 12798\n",
      "frozenset({'900101', '900212'}): 12278\n"
     ]
    }
   ],
   "source": [
    "# finding frequent 1-itemset\n",
    "frequent_1itemset_rdd=items_1.filter(lambda x: x[1]>=threshold)\n",
    "print(f'the number of frequent 1-itemsets is: {frequent_1itemset_rdd.count()}')\n",
    "frequent_1itemset=dict(frequent_1itemset_rdd.collect())\n",
    "# broadcasting all frequent 1-itemsets\n",
    "frequent_1itemset_bc=sc.broadcast(frequent_1itemset)\n",
    "print('top 10 of frequently 1-itemsets:')\n",
    "top_10_1frequent=dict(sorted(frequent_1itemset.items(),key=lambda x: x[1],reverse=True)[:10])\n",
    "for key,value in top_10_1frequent.items():\n",
    "    print(f'{key}: {value}')\n",
    "# finding frequent 2-itemsets\n",
    "def remove_nonfrequent_2itemset(basket,frequent_1itemset):\n",
    "    return {item for item in basket if item in frequent_1itemset.keys()}\n",
    "items_2=baskets.map(lambda x: remove_nonfrequent_2itemset(x,frequent_1itemset_bc.value)) \\\n",
    "                .flatMap(lambda x: list(combinations(x,2))) \\\n",
    "                .map(lambda x: (frozenset(x),1)) \\\n",
    "                .reduceByKey(lambda x,y: x+y)\n",
    "frequent_2itemset_rdd=items_2.filter(lambda x: x[1]>=threshold)\n",
    "print(f'the number of frequent 2-itemsets is {frequent_2itemset_rdd.count()}')\n",
    "frequent_2itemset=dict(frequent_2itemset_rdd.collect())\n",
    "frequent_2itemset_bc=sc.broadcast(frequent_2itemset)\n",
    "print('top 10 of frequently 2-itemsets:')\n",
    "top_10_2frequent=dict(sorted(frequent_2itemset.items(),key=lambda x: x[1],reverse=True)[:10])\n",
    "for key,value in top_10_2frequent.items():\n",
    "    print(f'{key}: {value}')"
   ]
  },
  {
   "cell_type": "code",
   "execution_count": 12,
   "id": "eca58717",
   "metadata": {},
   "outputs": [
    {
     "name": "stdout",
     "output_type": "stream",
     "text": [
      "the number of frequent 3-itemsets is 13\n",
      "the frequent 3-itemsets are as follow:\n",
      "frozenset({'900244', '900142', '900212'}): 14467\n",
      "frozenset({'100700853', '900142', '900212'}): 8603\n",
      "frozenset({'900244', '100700853', '900212'}): 7876\n",
      "frozenset({'100700839', '900244', '900212'}): 7764\n",
      "frozenset({'100700841', '900236', '900101'}): 6743\n",
      "frozenset({'900244', '900101', '900212'}): 6248\n",
      "frozenset({'900244', '100700853', '900142'}): 5646\n",
      "frozenset({'900244', '900139', '900212'}): 5284\n",
      "frozenset({'900244', '900249', '900212'}): 5276\n",
      "frozenset({'900102', '900244', '900212'}): 5203\n",
      "frozenset({'900155', '100700868', '900222'}): 4828\n",
      "frozenset({'900244', '900236', '900212'}): 4520\n",
      "frozenset({'900265', '100700804', '209103'}): 4129\n"
     ]
    }
   ],
   "source": [
    "# finding frequent 3-itemsets\n",
    "def remove_nonfrequent_3itemset(basket,frequent_2itemsets):\n",
    "    subsets={frozenset(subset) for subset in combinations(basket,3)}\n",
    "    kitemsets=set(frequent_2itemsets.keys())\n",
    "    candidates=[]\n",
    "    for subset in subsets:\n",
    "        if any(frozenset(i) in kitemsets for i in combinations(subset,2)):\n",
    "            candidates.append(subset)\n",
    "    return candidates\n",
    "frequent_3itemset_rdd=baskets.map(lambda x: remove_nonfrequent_2itemset(x,frequent_1itemset_bc.value)) \\\n",
    "                                .flatMap(lambda x: remove_nonfrequent_3itemset(x,frequent_2itemset_bc.value)) \\\n",
    "                                .map(lambda x: (x,1)) \\\n",
    "                                .reduceByKey(lambda x,y: x+y) \\\n",
    "                                .filter(lambda x: x[1]>=threshold)\n",
    "print(f'the number of frequent 3-itemsets is {frequent_3itemset_rdd.count()}')\n",
    "frequent_3itemset=dict(frequent_3itemset_rdd.collect())\n",
    "print(f'the frequent 3-itemsets are as follow:')\n",
    "top_3frequent=dict(sorted(frequent_3itemset.items(),key=lambda x: x[1],reverse=True))\n",
    "for key,value in top_3frequent.items():\n",
    "    print(f'{key}: {value}')"
   ]
  },
  {
   "cell_type": "code",
   "execution_count": 11,
   "id": "8bc5a6dc",
   "metadata": {},
   "outputs": [
    {
     "name": "stdout",
     "output_type": "stream",
     "text": [
      "frozenset({'900244', '100700853', '900142'}):  True\n",
      "frozenset({'900265', '100700804', '209103'}):  True\n",
      "frozenset({'100700841', '900236', '900101'}):  True\n",
      "frozenset({'100700853', '900142', '900212'}):  True\n",
      "frozenset({'900244', '900101', '900212'}):  True\n",
      "frozenset({'900244', '100700853', '900212'}):  True\n",
      "frozenset({'900244', '900236', '900212'}):  True\n",
      "frozenset({'900102', '900244', '900212'}):  True\n",
      "frozenset({'900244', '900142', '900212'}):  True\n",
      "frozenset({'100700839', '900244', '900212'}):  True\n",
      "frozenset({'900244', '900249', '900212'}):  True\n",
      "frozenset({'900155', '100700868', '900222'}):  True\n",
      "frozenset({'900244', '900139', '900212'}):  True\n"
     ]
    }
   ],
   "source": [
    "# see if all subsets of frequent 3-itemsets exist in frequent 2-itemsets  \n",
    "for itemset in frequent_3itemset:\n",
    "    print(f'{itemset}: ',end=' ')\n",
    "    print(all(frozenset(s) in frequent_2itemset.keys() for s in combinations(itemset,2)))"
   ]
  }
 ],
 "metadata": {
  "kernelspec": {
   "display_name": "Python 3 (ipykernel)",
   "language": "python",
   "name": "python3"
  },
  "language_info": {
   "codemirror_mode": {
    "name": "ipython",
    "version": 3
   },
   "file_extension": ".py",
   "mimetype": "text/x-python",
   "name": "python",
   "nbconvert_exporter": "python",
   "pygments_lexer": "ipython3",
   "version": "3.10.6"
  }
 },
 "nbformat": 4,
 "nbformat_minor": 5
}
